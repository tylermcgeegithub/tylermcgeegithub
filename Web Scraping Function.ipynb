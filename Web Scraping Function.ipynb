{
 "cells": [
  {
   "cell_type": "code",
   "execution_count": null,
   "metadata": {},
   "outputs": [],
   "source": [
    "#Written by Tyler McGee, 2/18/2020\n",
    "#Adapted from https://towardsdatascience.com/web-scraping-html-tables-with-python-c9baba21059\n",
    "import pandas as pd\n",
    "import numpy as np\n",
    "import requests\n",
    "import lxml.html as lh\n",
    "import matplotlib.pyplot as plt\n",
    "import re\n",
    "\n",
    "%matplotlib inline  "
   ]
  },
  {
   "cell_type": "code",
   "execution_count": null,
   "metadata": {},
   "outputs": [],
   "source": [
    "def cleanString(a):\n",
    "    b = a.replace('\\t','')\n",
    "    c = b.replace('\\r','')\n",
    "    d = c.replace('\\n','')\n",
    "    return d"
   ]
  },
  {
   "cell_type": "code",
   "execution_count": null,
   "metadata": {},
   "outputs": [],
   "source": [
    "def webScrapeTable(url, xPathy, rowLength):\n",
    "    ###url = \"https://www.atptour.com/en/rankings/singles\"\n",
    "    ###!!!!!!!!!!!! Inspect the webpage and xpath should be like this '//*[@id=\"pageEventH2hTable\"]/table/tbody/tr'\n",
    "    #Create a handle, page, to handle the contents of the website\n",
    "    page = requests.get(url)\n",
    "    #Store the contents of the website under doc\n",
    "    doc = lh.fromstring(page.content)\n",
    "    #Parse data that are stored between <tr>..</tr> of HTML\n",
    "    tr_elements = doc.xpath(xPathy)\n",
    "    ##\n",
    "    ##\n",
    "    ####Check the length of the first 12 rows\n",
    "    ###[len(T) for T in tr_elements[:12]]\n",
    "    #Create empty list\n",
    "    col=[]\n",
    "    i=0\n",
    "    #For each row, store each first element (header) and an empty list\n",
    "    for t in tr_elements[0]:\n",
    "        i+=1\n",
    "        name=t.text_content()\n",
    "        name = cleanString(name)\n",
    "        #print('%d:\"%s\"' % (i,name))\n",
    "        col.append((name,[]))\n",
    "    ##\n",
    "    ##\n",
    "    #Since out first row is the header, data is stored on the second row onwards\n",
    "    for j in range(1,len(tr_elements)):\n",
    "        #T is our j'th row\n",
    "        T=tr_elements[j]\n",
    "        \n",
    "        i = 0\n",
    "        \n",
    "        #If row is not of size rowLength, the //tr data is not from our table \n",
    "        if len(T)!=rowLength:\n",
    "            if len(T) == rowLength-1:\n",
    "                i = 1\n",
    "                col[0][1].append(0)\n",
    "            else:\n",
    "                continue\n",
    "                #break\n",
    "    \n",
    "        ##i is the index of our column\n",
    "        #i=0\n",
    "    \n",
    "        #Iterate through each element of the row\n",
    "        for t in T.iterchildren():\n",
    "            data=t.text_content() \n",
    "            data = cleanString(data)\n",
    "            #Check if row is empty\n",
    "            if i>0:\n",
    "            #Convert any numerical value to integers\n",
    "                try:\n",
    "                    data=int(data)\n",
    "                except:\n",
    "                    pass\n",
    "            #Append the data to the empty list of the i'th column\n",
    "            \n",
    "            col[i][1].append(data)\n",
    "            #Increment i for the next column\n",
    "            i+=1\n",
    "    ##\n",
    "    ##\n",
    "    #[len(C) for (title,C) in col] Use this to check that each column is the same length\n",
    "    Dict={title:column for (title,column) in col}\n",
    "    df=pd.DataFrame(Dict)\n",
    "    df.head()\n",
    "    return df"
   ]
  },
  {
   "cell_type": "code",
   "execution_count": null,
   "metadata": {},
   "outputs": [],
   "source": [
    "#Use this cell to check that everything compiles correctly and runs correctly\n",
    "#Last checked 2/18/2020\n",
    "url = \"https://www.atptour.com/en/players/atp-head-2-head/alexander-zverev-vs-dominic-thiem/Z355/TB69\"\n",
    "pathy = '//*[@id=\"pageEventH2hTable\"]/table/tbody/tr'\n",
    "rowLen = 6\n",
    "ThiemZverevFunctionCheck = webScrapeTable(url, pathy, rowLen)\n",
    "ThiemZverevFunctionCheck.head()"
   ]
  }
 ],
 "metadata": {
  "kernelspec": {
   "display_name": "Python 3",
   "language": "python",
   "name": "python3"
  },
  "language_info": {
   "codemirror_mode": {
    "name": "ipython",
    "version": 3
   },
   "file_extension": ".py",
   "mimetype": "text/x-python",
   "name": "python",
   "nbconvert_exporter": "python",
   "pygments_lexer": "ipython3",
   "version": "3.7.4"
  }
 },
 "nbformat": 4,
 "nbformat_minor": 2
}
